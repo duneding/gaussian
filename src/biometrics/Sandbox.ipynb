{
 "cells": [
  {
   "cell_type": "code",
   "execution_count": 1,
   "metadata": {
    "collapsed": true
   },
   "outputs": [],
   "source": [
    "import scipy.cluster.hierarchy as hcluster\n",
    "import matplotlib.pyplot as plt\n",
    "import pandas as pd\n",
    "import seaborn as sns\n",
    "from pandas.tools.plotting import scatter_matrix"
   ]
  },
  {
   "cell_type": "code",
   "execution_count": 2,
   "metadata": {
    "collapsed": true
   },
   "outputs": [],
   "source": [
    "def plot_correlation_map( df ):\n",
    "    corr = df.corr()\n",
    "    _ , ax = plt.subplots( figsize =( 12 , 10 ) )\n",
    "    cmap = sns.diverging_palette( 220 , 10 , as_cmap = True )\n",
    "    _ = sns.heatmap(\n",
    "        corr,\n",
    "        cmap = cmap,\n",
    "        square=True,\n",
    "        cbar_kws={ 'shrink' : .9 },\n",
    "        ax=ax,\n",
    "        annot = True,\n",
    "        annot_kws = { 'fontsize' : 12 }\n",
    "    )"
   ]
  },
  {
   "cell_type": "code",
   "execution_count": 9,
   "metadata": {
    "collapsed": true
   },
   "outputs": [],
   "source": [
    "tracks = pd.read_csv('output.csv', names=['duration', 'flying_avg', 'pattern'])\n",
    "tracks.pop('pattern')\n",
    "tracks_norm = (tracks - tracks.mean()) / (tracks.max() - tracks.min())"
   ]
  },
  {
   "cell_type": "code",
   "execution_count": 10,
   "metadata": {
    "collapsed": false
   },
   "outputs": [],
   "source": [
    "# clustering\n",
    "thresh = 3\n",
    "clusters = hcluster.fclusterdata(tracks_norm, thresh, criterion=\"distance\")\n",
    "# plotting\n",
    "plt.scatter(tracks_norm.duration, tracks_norm.flying_avg, c=clusters, edgecolors='g')\n",
    "plt.axis(\"equal\")\n",
    "title = \"threshold: %f, number of clusters: %d\" % (thresh, len(set(clusters)))\n",
    "plt.title(title)\n",
    "#plt.show()\n",
    "plot_correlation_map(tracks_norm)"
   ]
  },
  {
   "cell_type": "code",
   "execution_count": null,
   "metadata": {
    "collapsed": true
   },
   "outputs": [],
   "source": []
  },
  {
   "cell_type": "code",
   "execution_count": null,
   "metadata": {
    "collapsed": true
   },
   "outputs": [],
   "source": []
  }
 ],
 "metadata": {
  "kernelspec": {
   "display_name": "Python 2",
   "language": "python",
   "name": "python2"
  },
  "language_info": {
   "codemirror_mode": {
    "name": "ipython",
    "version": 2
   },
   "file_extension": ".py",
   "mimetype": "text/x-python",
   "name": "python",
   "nbconvert_exporter": "python",
   "pygments_lexer": "ipython2",
   "version": "2.7.13"
  }
 },
 "nbformat": 4,
 "nbformat_minor": 2
}
