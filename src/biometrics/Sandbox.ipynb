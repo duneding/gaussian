{
 "cells": [
  {
   "cell_type": "code",
   "execution_count": 1,
   "metadata": {
    "collapsed": true
   },
   "outputs": [],
   "source": [
    "import seaborn as sns\n",
    "import time\n",
    "import numpy as np\n",
    "import pandas as pd\n",
    "from sklearn.cluster import KMeans, MiniBatchKMeans\n",
    "from sklearn.decomposition import PCA\n",
    "from matplotlib import pyplot as plt\n",
    "from matplotlib import cm as cm\n",
    "from sklearn.metrics.pairwise import pairwise_distances_argmin"
   ]
  },
  {
   "cell_type": "code",
   "execution_count": 2,
   "metadata": {
    "collapsed": true
   },
   "outputs": [],
   "source": [
    "# Constant\n",
    "DATASET_PATH = \"dataset.csv\"\n",
    "NUM_CLUSTERS = 3\n",
    "MAX_ITERATIONS = 10\n",
    "INITIALIZE_CLUSTERS = ['k-means++', 'random']\n",
    "CONVERGENCE_TOLERANCE = 0.001\n",
    "NUM_THREADS = 10\n",
    "BATCH_SIZE = 1000\n",
    "SAMPLE_SIZE = 100000\n",
    "COLORS = ['red', 'blue', 'green', 'yellow', 'gray', 'pink', 'violet', 'brown',\n",
    "          'cyan', 'magenta']\n",
    "FEATURES = ['start_time', 'end_time', 'avg_pressure', 'avg_dwell_time', 'avg_flight_time',\n",
    "            'avg_alt_right', 'avg_alt_left', 'avg_shift_right', 'avg_shift_left',\n",
    "            'avg_ctrl_right', 'avg_ctrl_left', 'avg_enter', 'avg_space', 'avg_tab',\n",
    "            'error_rate', 'is_android', 'is_iphone', 'is_ipad', 'is_ipod', 'is_mac',\n",
    "            'is_linux', 'is_window', 'is_blackberry', 'is_playstation', 'is_arm',\n",
    "            'is_masking_agent', 'is_freebsd', 'is_osmeta', 'is_anomaly_user_agent',\n",
    "            'is_empty_platform', 'user_id', 'pattern']"
   ]
  },
  {
   "cell_type": "code",
   "execution_count": 3,
   "metadata": {
    "collapsed": true
   },
   "outputs": [],
   "source": [
    "def get_dataframe_from(dataset):\n",
    "    return pd.read_csv(dataset, names=FEATURES)\n",
    "\n",
    "\n",
    "def normalize(data):\n",
    "    return pd.DataFrame((data - data.mean()) / (data.max() - data.min())).fillna(value=-1)\n",
    "\n",
    "\n",
    "def correlation_heatmap(df):\n",
    "    sns.set(context=\"paper\", font=\"monospace\")\n",
    "    corrmat = df.corr()\n",
    "    # Set up the matplotlib figure\n",
    "    f, ax = plt.subplots(figsize=(12, 9))\n",
    "\n",
    "    # Draw the heatmap using seaborn\n",
    "    sns.heatmap(corrmat, vmax=.8, square=True)\n",
    "    features = filter(lambda x: x != 'pattern' or x != 'user_id', FEATURES)\n",
    "    ax.set_xticklabels(features,fontsize=6, rotation=90)\n",
    "    ax.set_yticklabels(features,fontsize=6, rotation=0)\n",
    "    f.tight_layout()\n",
    "\n",
    "\n",
    "def print_results(k_means, time_end):\n",
    "    # Obtain centroids and number Cluster of each point\n",
    "    centroids = k_means.cluster_centers_\n",
    "    num_cluster_points = k_means.labels_.tolist()\n",
    "\n",
    "    print '\\n\\nFINAL RESULT ' + '(' + str(time_end) + '):'\n",
    "    for i, c in enumerate(centroids):\n",
    "        print '\\tCluster %d' % (i + 1)\n",
    "        print '\\t\\tNumber Points in Cluster %d' % num_cluster_points.count(i)\n",
    "        print '\\t\\tCentroid: %s' % str(centroids[i])\n",
    "\n",
    "\n",
    "def plot_results_kmeans(k_means, points):\n",
    "    # Obtain centroids and number Cluster of each point\n",
    "    centroids = k_means.cluster_centers_\n",
    "    num_cluster_points = k_means.labels_.tolist()\n",
    "\n",
    "    plt.plot()\n",
    "    for nc in range(len(centroids)):\n",
    "        # plot points\n",
    "        points_in_cluster = [boolP == nc for boolP in num_cluster_points]\n",
    "        for i, p in enumerate(points_in_cluster):\n",
    "            if bool(p):\n",
    "                plt.plot(points[i][0], points[i][1], linestyle='None',\n",
    "                         color=COLORS[nc], marker='.')\n",
    "        # plot centroids\n",
    "        centroid = centroids[nc]\n",
    "        plt.plot(centroid[0], centroid[1], 'o', markerfacecolor=COLORS[nc],\n",
    "                 markeredgecolor='k', markersize=10)\n",
    "    plt.show()\n",
    "\n",
    "\n",
    "def dimension_reduction(data):\n",
    "    pca = PCA(n_components=2).fit(data)\n",
    "    # 2-dimensions\n",
    "    return pca.transform(data)\n",
    "\n",
    "\n",
    "def fit_mbk_means(data):\n",
    "    #MBKMeans\n",
    "    mbk_means = MiniBatchKMeans(init=INITIALIZE_CLUSTERS[0], n_clusters=NUM_CLUSTERS, batch_size=BATCH_SIZE,\n",
    "                                n_init=10, max_no_improvement=10, verbose=0)\n",
    "    time_start = time.time()\n",
    "    mbk_means.fit(data)\n",
    "    time_end = time.time() - time_start\n",
    "\n",
    "    return mbk_means, time_end\n",
    "\n",
    "\n",
    "def fit_k_means(data):\n",
    "    #KMeans\n",
    "    k_means = KMeans(init=INITIALIZE_CLUSTERS[0], n_clusters=NUM_CLUSTERS, n_init=10)\n",
    "\n",
    "    time_start = time.time()\n",
    "    k_means.fit(data)\n",
    "    time_end = time.time() - time_start\n",
    "\n",
    "    return k_means, time_end\n",
    "\n",
    "def get_cluster_centers(k_means, mbk_means):\n",
    "    return (np.sort(k_means.cluster_centers_, axis=0),\n",
    "            np.sort(mbk_means.cluster_centers_, axis=0))\n",
    "\n",
    "\n",
    "def get_labels(data, k_means_cluster_centers, mbk_means_cluster_centers):\n",
    "    return (pairwise_distances_argmin(data, k_means_cluster_centers),\n",
    "            pairwise_distances_argmin(data, mbk_means_cluster_centers))\n",
    "\n",
    "\n",
    "def initialize_plot_params():\n",
    "    fig = plt.figure(figsize=(8, 3))\n",
    "    fig.subplots_adjust(left=0.02, right=0.98, bottom=0.05, top=0.9)\n",
    "    colors = ['#4EACC5', '#FF9C34', '#4E9A06']\n",
    "\n",
    "    return fig, colors, 'train time: %.2fs\\ninertia: %f'\n",
    "\n",
    "\n",
    "def plot_diff_clustering(mbk_means_labels, k_means_labels, data, order, fig):\n",
    "    # Initialise the different array to all False\n",
    "    different = (mbk_means_labels == 4)\n",
    "    ax = fig.add_subplot(1, 3, 3)\n",
    "\n",
    "    for k in range(NUM_CLUSTERS):\n",
    "        different += ((k_means_labels == k) != (mbk_means_labels == order[k]))\n",
    "\n",
    "    identic = np.logical_not(different)\n",
    "    ax.plot(data[identic, 0], data[identic, 1], 'w',\n",
    "            markerfacecolor='#bbbbbb', marker='.')\n",
    "    ax.plot(data[different, 0], data[different, 1], 'w',\n",
    "            markerfacecolor='m', marker='.')\n",
    "    ax.set_title('Difference')\n",
    "    ax.set_xticks(())\n",
    "    ax.set_yticks(())\n",
    "\n",
    "def plot_clustering(labels, centers, title, order, fig, colors, axes):\n",
    "\n",
    "    ax = fig.add_subplot(axes[0], axes[1], axes[2])\n",
    "    for k, col in zip(range(NUM_CLUSTERS), colors):\n",
    "\n",
    "        if order is None:\n",
    "            my_members = labels == k\n",
    "        else:\n",
    "            my_members = labels == order[k]\n",
    "\n",
    "        cluster_center = centers[k]\n",
    "        ax.plot(data[my_members, 0], data[my_members, 1], 'w',\n",
    "                markerfacecolor=col, marker='.')\n",
    "        ax.plot(cluster_center[0], cluster_center[1], 'o', markerfacecolor=col,\n",
    "                markeredgecolor='k', markersize=6)\n",
    "\n",
    "    ax.set_title(title)\n",
    "    ax.set_xticks(())\n",
    "    ax.set_yticks(())\n",
    "\n",
    "def clustering(data):\n",
    "\n",
    "    #MBKMeans\n",
    "    (mbk_means, time_end_mbk) = fit_mbk_means(data)\n",
    "\n",
    "    #KMeans\n",
    "    (k_means, time_end_km) = fit_k_means(data)\n",
    "\n",
    "    # The same colors for the same cluster\n",
    "    (k_means_cluster_centers, mbk_means_cluster_centers) = get_cluster_centers(k_means, mbk_means)\n",
    "    (k_means_labels, mbk_means_labels) = get_labels(data, k_means_cluster_centers, mbk_means_cluster_centers)\n",
    "    order = pairwise_distances_argmin(k_means_cluster_centers,\n",
    "                                  mbk_means_cluster_centers)\n",
    "\n",
    "\n",
    "    return k_means, mbk_means, time_end_km, time_end_mbk, k_means_labels, mbk_means_labels,\\\n",
    "           k_means_cluster_centers, mbk_means_cluster_centers, order\n",
    "\n"
   ]
  },
  {
   "cell_type": "markdown",
   "metadata": {},
   "source": [
    "# Prepare and normalize data"
   ]
  },
  {
   "cell_type": "code",
   "execution_count": 4,
   "metadata": {
    "collapsed": false
   },
   "outputs": [
    {
     "name": "stderr",
     "output_type": "stream",
     "text": [
      "/Users/mdagostino/anaconda2/lib/python2.7/site-packages/ipykernel/__main__.py:2: FutureWarning: sort(columns=....) is deprecated, use sort_values(by=.....)\n",
      "  from ipykernel import kernelapp as app\n"
     ]
    }
   ],
   "source": [
    "df = get_dataframe_from(DATASET_PATH)\n",
    "df.sort(['user_id'])\n",
    "None"
   ]
  },
  {
   "cell_type": "code",
   "execution_count": 5,
   "metadata": {
    "collapsed": true
   },
   "outputs": [],
   "source": [
    "data = normalize(df.ix[:SAMPLE_SIZE, 0:30])"
   ]
  },
  {
   "cell_type": "markdown",
   "metadata": {},
   "source": [
    "# Visualize correlations features"
   ]
  },
  {
   "cell_type": "code",
   "execution_count": 6,
   "metadata": {
    "collapsed": false
   },
   "outputs": [
    {
     "data": {
      "image/png": "[encoded data removed]",
      "text/plain": [
       "<matplotlib.figure.Figure at 0x10ecdfc90>"
      ]
     },
     "metadata": {},
     "output_type": "display_data"
    }
   ],
   "source": [
    "correlation_heatmap(df)\n",
    "plt.show()"
   ]
  },
  {
   "cell_type": "markdown",
   "metadata": {},
   "source": [
    "# Clustering KMeans (single)"
   ]
  },
  {
   "cell_type": "code",
   "execution_count": null,
   "metadata": {
    "collapsed": false
   },
   "outputs": [],
   "source": [
    "(k_means, time_end_km) = fit_k_means(data)\n",
    "# Print final result\n",
    "print_results(k_means, time_end_km)"
   ]
  },
  {
   "cell_type": "code",
   "execution_count": null,
   "metadata": {
    "collapsed": false
   },
   "outputs": [],
   "source": [
    "# Plot Final results\n",
    "plot_results_kmeans(k_means, dimension_reduction(data.as_matrix()))"
   ]
  },
  {
   "cell_type": "markdown",
   "metadata": {},
   "source": [
    "# Clustering KMeans Vs MiniBatchKMeans"
   ]
  },
  {
   "cell_type": "code",
   "execution_count": 7,
   "metadata": {
    "collapsed": true
   },
   "outputs": [],
   "source": [
    "(\n",
    "    k_means,\n",
    "    mbk_means,\n",
    "    time_end_km,\n",
    "    time_end_mbk,\n",
    "    k_means_labels,\n",
    "    mbk_means_labels,\n",
    "    k_means_cluster_centers,\n",
    "    mbk_means_cluster_centers,\n",
    "    order\n",
    ") = clustering(data)\n",
    "\n",
    "# Dimension Reduction\n",
    "data = dimension_reduction(data.as_matrix())"
   ]
  },
  {
   "cell_type": "code",
   "execution_count": 8,
   "metadata": {
    "collapsed": true
   },
   "outputs": [],
   "source": [
    "# Initialize Plot params\n",
    "(figure, colors, stats) = initialize_plot_params()\n"
   ]
  },
  {
   "cell_type": "markdown",
   "metadata": {},
   "source": [
    "# Plot KMeans"
   ]
  },
  {
   "cell_type": "code",
   "execution_count": 9,
   "metadata": {
    "collapsed": false
   },
   "outputs": [
    {
     "data": {
      "text/plain": [
       "<matplotlib.text.Text at 0x10fa47850>"
      ]
     },
     "execution_count": 9,
     "metadata": {},
     "output_type": "execute_result"
    }
   ],
   "source": [
    "k_means_axes = (1, 3, 1)\n",
    "plot_clustering(k_means_labels, k_means_cluster_centers, 'kmeans', None, figure, colors, k_means_axes)\n",
    "plt.text(0.5, 1,  stats % (\n",
    "    time_end_km, k_means.inertia_))"
   ]
  },
  {
   "cell_type": "markdown",
   "metadata": {},
   "source": [
    "# Plot MBKMeans"
   ]
  },
  {
   "cell_type": "code",
   "execution_count": 10,
   "metadata": {
    "collapsed": false
   },
   "outputs": [
    {
     "data": {
      "text/plain": [
       "<matplotlib.text.Text at 0x10fb56110>"
      ]
     },
     "execution_count": 10,
     "metadata": {},
     "output_type": "execute_result"
    }
   ],
   "source": [
    "mbk_means_axes = (1, 3, 2)\n",
    "plot_clustering(mbk_means_labels, mbk_means_cluster_centers, 'mbk_means', order, figure, colors, mbk_means_axes)\n",
    "plt.text(0.5, 1,  stats % (\n",
    "    time_end_mbk, mbk_means.inertia_))"
   ]
  },
  {
   "cell_type": "code",
   "execution_count": 11,
   "metadata": {
    "collapsed": false
   },
   "outputs": [
    {
     "data": {
      "image/png": "[encoded data removed]",
      "text/plain": [
       "<matplotlib.figure.Figure at 0x10fa30950>"
      ]
     },
     "metadata": {},
     "output_type": "display_data"
    }
   ],
   "source": [
    "# Plot Differences between both algorithms\n",
    "plot_diff_clustering(mbk_means_labels, k_means_labels, data, order, figure)\n",
    "plt.show()"
   ]
  },
  {
   "cell_type": "code",
   "execution_count": null,
   "metadata": {
    "collapsed": true
   },
   "outputs": [],
   "source": []
  }
 ],
 "metadata": {
  "kernelspec": {
   "display_name": "Python 2",
   "language": "python",
   "name": "python2"
  },
  "language_info": {
   "codemirror_mode": {
    "name": "ipython",
    "version": 2
   },
   "file_extension": ".py",
   "mimetype": "text/x-python",
   "name": "python",
   "nbconvert_exporter": "python",
   "pygments_lexer": "ipython2",
   "version": "2.7.13"
  }
 },
 "nbformat": 4,
 "nbformat_minor": 2
}
