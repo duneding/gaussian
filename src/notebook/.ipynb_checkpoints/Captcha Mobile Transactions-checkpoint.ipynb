{
 "cells": [
  {
   "cell_type": "code",
   "execution_count": 94,
   "metadata": {},
   "outputs": [],
   "source": [
    "%matplotlib inline\n",
    "import os\n",
    "import tarfile\n",
    "import pandas as pd\n",
    "import numpy as np\n",
    "import hashlib\n",
    "import matplotlib.pyplot as plt\n",
    "from six.moves import urllib\n",
    "from sklearn.model_selection import train_test_split\n",
    "from sklearn.model_selection import StratifiedShuffleSplit\n",
    "from pandas.plotting import scatter_matrix\n",
    "from sklearn.preprocessing import Imputer\n",
    "from sklearn.preprocessing import OneHotEncoder\n",
    "from sklearn.base import BaseEstimator, TransformerMixin\n",
    "from sklearn.pipeline import Pipeline\n",
    "from sklearn.preprocessing import StandardScaler\n",
    "import matplotlib.dates as mdates\n",
    "from matplotlib import dates\n",
    "import datetime"
   ]
  },
  {
   "cell_type": "code",
   "execution_count": 2,
   "metadata": {},
   "outputs": [],
   "source": [
    "DATASET_PATH = os.path.join(\"datasets\", \"captcha\")"
   ]
  },
  {
   "cell_type": "code",
   "execution_count": 3,
   "metadata": {},
   "outputs": [],
   "source": [
    "def load_transactions_data(housing_path=DATASET_PATH):\n",
    "    csv_path = os.path.join(housing_path, \"captcha_transactions.csv\")\n",
    "    #return pd.read_csv(csv_path, converters={\"client_id\":str, \"ts\":mdates.strpdate2num('%Y-%m-%d')})\n",
    "    return pd.read_csv(csv_path)"
   ]
  },
  {
   "cell_type": "code",
   "execution_count": 101,
   "metadata": {},
   "outputs": [
    {
     "data": {
      "text/html": [
       "<div>\n",
       "<style scoped>\n",
       "    .dataframe tbody tr th:only-of-type {\n",
       "        vertical-align: middle;\n",
       "    }\n",
       "\n",
       "    .dataframe tbody tr th {\n",
       "        vertical-align: top;\n",
       "    }\n",
       "\n",
       "    .dataframe thead th {\n",
       "        text-align: right;\n",
       "    }\n",
       "</style>\n",
       "<table border=\"1\" class=\"dataframe\">\n",
       "  <thead>\n",
       "    <tr style=\"text-align: right;\">\n",
       "      <th></th>\n",
       "      <th>ts</th>\n",
       "      <th>site_id</th>\n",
       "      <th>transaction_id</th>\n",
       "      <th>velocity_ms</th>\n",
       "      <th>ip_render</th>\n",
       "      <th>ip_validation</th>\n",
       "      <th>os</th>\n",
       "      <th>client_id</th>\n",
       "      <th>system_version</th>\n",
       "      <th>model</th>\n",
       "      <th>platform</th>\n",
       "      <th>velocity_sn</th>\n",
       "    </tr>\n",
       "  </thead>\n",
       "  <tbody>\n",
       "    <tr>\n",
       "      <th>0</th>\n",
       "      <td>2018-07-15</td>\n",
       "      <td>mla</td>\n",
       "      <td>1e6fdfba27cb7f96329c17d17c51ebc2--resto</td>\n",
       "      <td>31968</td>\n",
       "      <td>181.170.34.140</td>\n",
       "      <td>181.170.34.140</td>\n",
       "      <td>ANDROID</td>\n",
       "      <td>7092.0</td>\n",
       "      <td>8.0.0</td>\n",
       "      <td>G8341</td>\n",
       "      <td>arm64-v8a</td>\n",
       "      <td>31.97</td>\n",
       "    </tr>\n",
       "    <tr>\n",
       "      <th>1</th>\n",
       "      <td>2018-07-16</td>\n",
       "      <td>mlm</td>\n",
       "      <td>fd9761780a4e616faf849297f673329a--resto</td>\n",
       "      <td>92482</td>\n",
       "      <td>201.166.189.182</td>\n",
       "      <td>201.166.189.182</td>\n",
       "      <td>ANDROID</td>\n",
       "      <td>7092.0</td>\n",
       "      <td>7.0</td>\n",
       "      <td>5011A</td>\n",
       "      <td>armeabi-v7a</td>\n",
       "      <td>92.48</td>\n",
       "    </tr>\n",
       "    <tr>\n",
       "      <th>2</th>\n",
       "      <td>2018-07-13</td>\n",
       "      <td>mlb</td>\n",
       "      <td>10487a6acc80e50a1f7aa58af0f12d95--resto</td>\n",
       "      <td>300551</td>\n",
       "      <td>179.126.209.35</td>\n",
       "      <td>179.126.209.35</td>\n",
       "      <td>ANDROID</td>\n",
       "      <td>7092.0</td>\n",
       "      <td>5.1.1</td>\n",
       "      <td>Lenovo A6020l36</td>\n",
       "      <td>arm64-v8a</td>\n",
       "      <td>300.55</td>\n",
       "    </tr>\n",
       "    <tr>\n",
       "      <th>3</th>\n",
       "      <td>2018-07-13</td>\n",
       "      <td>mlm</td>\n",
       "      <td>564e2469a38db9227f61c4daab5b76aa--resto</td>\n",
       "      <td>24360</td>\n",
       "      <td>189.170.247.42</td>\n",
       "      <td>189.170.247.42</td>\n",
       "      <td>ANDROID</td>\n",
       "      <td>7092.0</td>\n",
       "      <td>8.0.0</td>\n",
       "      <td>SM-N950F</td>\n",
       "      <td>arm64-v8a</td>\n",
       "      <td>24.36</td>\n",
       "    </tr>\n",
       "    <tr>\n",
       "      <th>4</th>\n",
       "      <td>2018-07-14</td>\n",
       "      <td>mlb</td>\n",
       "      <td>bd0b77499f5787e1a65f260459515ea8--resto</td>\n",
       "      <td>28721</td>\n",
       "      <td>179.178.168.119</td>\n",
       "      <td>179.178.168.119</td>\n",
       "      <td>ANDROID</td>\n",
       "      <td>7092.0</td>\n",
       "      <td>7.0</td>\n",
       "      <td>Moto C Plus</td>\n",
       "      <td>armeabi-v7a</td>\n",
       "      <td>28.72</td>\n",
       "    </tr>\n",
       "  </tbody>\n",
       "</table>\n",
       "</div>"
      ],
      "text/plain": [
       "          ts site_id                           transaction_id  velocity_ms  \\\n",
       "0 2018-07-15     mla  1e6fdfba27cb7f96329c17d17c51ebc2--resto        31968   \n",
       "1 2018-07-16     mlm  fd9761780a4e616faf849297f673329a--resto        92482   \n",
       "2 2018-07-13     mlb  10487a6acc80e50a1f7aa58af0f12d95--resto       300551   \n",
       "3 2018-07-13     mlm  564e2469a38db9227f61c4daab5b76aa--resto        24360   \n",
       "4 2018-07-14     mlb  bd0b77499f5787e1a65f260459515ea8--resto        28721   \n",
       "\n",
       "         ip_render    ip_validation       os client_id system_version  \\\n",
       "0   181.170.34.140   181.170.34.140  ANDROID    7092.0          8.0.0   \n",
       "1  201.166.189.182  201.166.189.182  ANDROID    7092.0            7.0   \n",
       "2   179.126.209.35   179.126.209.35  ANDROID    7092.0          5.1.1   \n",
       "3   189.170.247.42   189.170.247.42  ANDROID    7092.0          8.0.0   \n",
       "4  179.178.168.119  179.178.168.119  ANDROID    7092.0            7.0   \n",
       "\n",
       "             model     platform  velocity_sn  \n",
       "0            G8341    arm64-v8a        31.97  \n",
       "1            5011A  armeabi-v7a        92.48  \n",
       "2  Lenovo A6020l36    arm64-v8a       300.55  \n",
       "3         SM-N950F    arm64-v8a        24.36  \n",
       "4      Moto C Plus  armeabi-v7a        28.72  "
      ]
     },
     "execution_count": 101,
     "metadata": {},
     "output_type": "execute_result"
    }
   ],
   "source": [
    "transactions = load_transactions_data()\n",
    "transactions['velocity_sn'] = round((transactions['velocity_ms'] / 1000), 2) #seconds\n",
    "transactions['client_id'] = transactions['client_id'].astype(str)\n",
    "transactions['ts'] = pd.to_datetime(transactions['ts'])\n",
    "\n",
    "#converted_dates = map(datetime.datetime.strptime, transactions['ts'], len(transactions['ts'])*['%Y-%m-%d'])\n",
    "#x_axis = (converted_dates)\n",
    "#formatter = dates.DateFormatter('%Y-%m-%d')\n",
    "\n",
    "#transactions['ts'] = transactions['ts'].astype(datetime)\n",
    "#transactions['ts'] = datetime.strptime(str(transactions['ts']), '%m/%d/%Y')\n",
    "transactions.head()"
   ]
  },
  {
   "cell_type": "code",
   "execution_count": 102,
   "metadata": {},
   "outputs": [
    {
     "name": "stdout",
     "output_type": "stream",
     "text": [
      "<class 'pandas.core.frame.DataFrame'>\n",
      "RangeIndex: 31189 entries, 0 to 31188\n",
      "Data columns (total 12 columns):\n",
      "ts                31189 non-null datetime64[ns]\n",
      "site_id           31189 non-null object\n",
      "transaction_id    31189 non-null object\n",
      "velocity_ms       31189 non-null int64\n",
      "ip_render         31189 non-null object\n",
      "ip_validation     31189 non-null object\n",
      "os                31189 non-null object\n",
      "client_id         31189 non-null object\n",
      "system_version    31188 non-null object\n",
      "model             31188 non-null object\n",
      "platform          31187 non-null object\n",
      "velocity_sn       31189 non-null float64\n",
      "dtypes: datetime64[ns](1), float64(1), int64(1), object(9)\n",
      "memory usage: 2.9+ MB\n"
     ]
    }
   ],
   "source": [
    "transactions.info()"
   ]
  },
  {
   "cell_type": "code",
   "execution_count": 46,
   "metadata": {},
   "outputs": [
    {
     "data": {
      "text/plain": [
       "ANDROID    24948\n",
       "iOS         6241\n",
       "Name: os, dtype: int64"
      ]
     },
     "execution_count": 46,
     "metadata": {},
     "output_type": "execute_result"
    }
   ],
   "source": [
    "transactions[\"os\"].value_counts()"
   ]
  },
  {
   "cell_type": "code",
   "execution_count": 47,
   "metadata": {},
   "outputs": [
    {
     "data": {
      "image/png": "[encoded data removed]",
      "text/plain": [
       "<Figure size 432x288 with 1 Axes>"
      ]
     },
     "metadata": {},
     "output_type": "display_data"
    }
   ],
   "source": [
    "plt.hist(transactions['ts'])\n",
    "plt.show()"
   ]
  },
  {
   "cell_type": "code",
   "execution_count": 48,
   "metadata": {},
   "outputs": [
    {
     "data": {
      "text/html": [
       "<div>\n",
       "<style scoped>\n",
       "    .dataframe tbody tr th:only-of-type {\n",
       "        vertical-align: middle;\n",
       "    }\n",
       "\n",
       "    .dataframe tbody tr th {\n",
       "        vertical-align: top;\n",
       "    }\n",
       "\n",
       "    .dataframe thead th {\n",
       "        text-align: right;\n",
       "    }\n",
       "</style>\n",
       "<table border=\"1\" class=\"dataframe\">\n",
       "  <thead>\n",
       "    <tr style=\"text-align: right;\">\n",
       "      <th></th>\n",
       "      <th>velocity_sn</th>\n",
       "    </tr>\n",
       "  </thead>\n",
       "  <tbody>\n",
       "    <tr>\n",
       "      <th>count</th>\n",
       "      <td>31189.000000</td>\n",
       "    </tr>\n",
       "    <tr>\n",
       "      <th>mean</th>\n",
       "      <td>58.684037</td>\n",
       "    </tr>\n",
       "    <tr>\n",
       "      <th>std</th>\n",
       "      <td>188.967405</td>\n",
       "    </tr>\n",
       "    <tr>\n",
       "      <th>min</th>\n",
       "      <td>3.500000</td>\n",
       "    </tr>\n",
       "    <tr>\n",
       "      <th>25%</th>\n",
       "      <td>22.680000</td>\n",
       "    </tr>\n",
       "    <tr>\n",
       "      <th>50%</th>\n",
       "      <td>34.820000</td>\n",
       "    </tr>\n",
       "    <tr>\n",
       "      <th>75%</th>\n",
       "      <td>58.230000</td>\n",
       "    </tr>\n",
       "    <tr>\n",
       "      <th>max</th>\n",
       "      <td>9331.410000</td>\n",
       "    </tr>\n",
       "  </tbody>\n",
       "</table>\n",
       "</div>"
      ],
      "text/plain": [
       "        velocity_sn\n",
       "count  31189.000000\n",
       "mean      58.684037\n",
       "std      188.967405\n",
       "min        3.500000\n",
       "25%       22.680000\n",
       "50%       34.820000\n",
       "75%       58.230000\n",
       "max     9331.410000"
      ]
     },
     "execution_count": 48,
     "metadata": {},
     "output_type": "execute_result"
    }
   ],
   "source": [
    "transactions.describe(include=['float'])"
   ]
  },
  {
   "cell_type": "code",
   "execution_count": 53,
   "metadata": {},
   "outputs": [
    {
     "data": {
      "text/plain": [
       "<matplotlib.axes._subplots.AxesSubplot at 0x1a16560a58>"
      ]
     },
     "execution_count": 53,
     "metadata": {},
     "output_type": "execute_result"
    },
    {
     "data": {
      "image/png": "[encoded data removed]",
      "text/plain": [
       "<Figure size 432x288 with 1 Axes>"
      ]
     },
     "metadata": {},
     "output_type": "display_data"
    }
   ],
   "source": [
    "#transactions.ts = pd.to_datetime(transactions.ts)\n",
    "transactions.set_index('ts')\n",
    "transactions['velocity_sn'].plot()"
   ]
  },
  {
   "cell_type": "code",
   "execution_count": null,
   "metadata": {},
   "outputs": [],
   "source": [
    "plt.plot(transactions[\"ts\"].dt.day, transactions.velocity_sn)"
   ]
  },
  {
   "cell_type": "code",
   "execution_count": null,
   "metadata": {},
   "outputs": [],
   "source": []
  }
 ],
 "metadata": {
  "kernelspec": {
   "display_name": "Python 3",
   "language": "python",
   "name": "python3"
  },
  "language_info": {
   "codemirror_mode": {
    "name": "ipython",
    "version": 3
   },
   "file_extension": ".py",
   "mimetype": "text/x-python",
   "name": "python",
   "nbconvert_exporter": "python",
   "pygments_lexer": "ipython3",
   "version": "3.5.5"
  },
  "toc": {
   "base_numbering": 1,
   "nav_menu": {},
   "number_sections": true,
   "sideBar": true,
   "skip_h1_title": false,
   "title_cell": "Table of Contents",
   "title_sidebar": "Contents",
   "toc_cell": false,
   "toc_position": {},
   "toc_section_display": true,
   "toc_window_display": false
  }
 },
 "nbformat": 4,
 "nbformat_minor": 2
}
